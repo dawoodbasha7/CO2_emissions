{
 "cells": [
  {
   "cell_type": "code",
   "execution_count": 1,
   "metadata": {
    "execution": {
     "iopub.execute_input": "2020-10-30T19:29:32.354260Z",
     "iopub.status.busy": "2020-10-30T19:29:32.353470Z",
     "iopub.status.idle": "2020-10-30T19:29:32.422396Z",
     "shell.execute_reply": "2020-10-30T19:29:32.423015Z"
    },
    "papermill": {
     "duration": 0.100513,
     "end_time": "2020-10-30T19:29:32.423216",
     "exception": false,
     "start_time": "2020-10-30T19:29:32.322703",
     "status": "completed"
    },
    "tags": []
   },
   "outputs": [
    {
     "data": {
      "text/html": [
       "<div>\n",
       "<style scoped>\n",
       "    .dataframe tbody tr th:only-of-type {\n",
       "        vertical-align: middle;\n",
       "    }\n",
       "\n",
       "    .dataframe tbody tr th {\n",
       "        vertical-align: top;\n",
       "    }\n",
       "\n",
       "    .dataframe thead th {\n",
       "        text-align: right;\n",
       "    }\n",
       "</style>\n",
       "<table border=\"1\" class=\"dataframe\">\n",
       "  <thead>\n",
       "    <tr style=\"text-align: right;\">\n",
       "      <th></th>\n",
       "      <th>Entity</th>\n",
       "      <th>Code</th>\n",
       "      <th>Year</th>\n",
       "      <th>Annual CO₂ emissions (tonnes )</th>\n",
       "    </tr>\n",
       "  </thead>\n",
       "  <tbody>\n",
       "    <tr>\n",
       "      <th>0</th>\n",
       "      <td>Afghanistan</td>\n",
       "      <td>AFG</td>\n",
       "      <td>1949</td>\n",
       "      <td>14656.00</td>\n",
       "    </tr>\n",
       "    <tr>\n",
       "      <th>1</th>\n",
       "      <td>Afghanistan</td>\n",
       "      <td>AFG</td>\n",
       "      <td>1950</td>\n",
       "      <td>84272.00</td>\n",
       "    </tr>\n",
       "    <tr>\n",
       "      <th>2</th>\n",
       "      <td>Afghanistan</td>\n",
       "      <td>AFG</td>\n",
       "      <td>1951</td>\n",
       "      <td>91600.00</td>\n",
       "    </tr>\n",
       "    <tr>\n",
       "      <th>3</th>\n",
       "      <td>Afghanistan</td>\n",
       "      <td>AFG</td>\n",
       "      <td>1952</td>\n",
       "      <td>91600.00</td>\n",
       "    </tr>\n",
       "    <tr>\n",
       "      <th>4</th>\n",
       "      <td>Afghanistan</td>\n",
       "      <td>AFG</td>\n",
       "      <td>1953</td>\n",
       "      <td>106256.00</td>\n",
       "    </tr>\n",
       "    <tr>\n",
       "      <th>...</th>\n",
       "      <td>...</td>\n",
       "      <td>...</td>\n",
       "      <td>...</td>\n",
       "      <td>...</td>\n",
       "    </tr>\n",
       "    <tr>\n",
       "      <th>20848</th>\n",
       "      <td>Zimbabwe</td>\n",
       "      <td>ZWE</td>\n",
       "      <td>2013</td>\n",
       "      <td>11536239.29</td>\n",
       "    </tr>\n",
       "    <tr>\n",
       "      <th>20849</th>\n",
       "      <td>Zimbabwe</td>\n",
       "      <td>ZWE</td>\n",
       "      <td>2014</td>\n",
       "      <td>11866348.41</td>\n",
       "    </tr>\n",
       "    <tr>\n",
       "      <th>20850</th>\n",
       "      <td>Zimbabwe</td>\n",
       "      <td>ZWE</td>\n",
       "      <td>2015</td>\n",
       "      <td>10907603.94</td>\n",
       "    </tr>\n",
       "    <tr>\n",
       "      <th>20851</th>\n",
       "      <td>Zimbabwe</td>\n",
       "      <td>ZWE</td>\n",
       "      <td>2016</td>\n",
       "      <td>9932649.88</td>\n",
       "    </tr>\n",
       "    <tr>\n",
       "      <th>20852</th>\n",
       "      <td>Zimbabwe</td>\n",
       "      <td>ZWE</td>\n",
       "      <td>2017</td>\n",
       "      <td>10397718.47</td>\n",
       "    </tr>\n",
       "  </tbody>\n",
       "</table>\n",
       "<p>20853 rows × 4 columns</p>\n",
       "</div>"
      ],
      "text/plain": [
       "            Entity Code  Year  Annual CO₂ emissions (tonnes )\n",
       "0      Afghanistan  AFG  1949                        14656.00\n",
       "1      Afghanistan  AFG  1950                        84272.00\n",
       "2      Afghanistan  AFG  1951                        91600.00\n",
       "3      Afghanistan  AFG  1952                        91600.00\n",
       "4      Afghanistan  AFG  1953                       106256.00\n",
       "...            ...  ...   ...                             ...\n",
       "20848     Zimbabwe  ZWE  2013                     11536239.29\n",
       "20849     Zimbabwe  ZWE  2014                     11866348.41\n",
       "20850     Zimbabwe  ZWE  2015                     10907603.94\n",
       "20851     Zimbabwe  ZWE  2016                      9932649.88\n",
       "20852     Zimbabwe  ZWE  2017                     10397718.47\n",
       "\n",
       "[20853 rows x 4 columns]"
      ]
     },
     "execution_count": 1,
     "metadata": {},
     "output_type": "execute_result"
    }
   ],
   "source": [
    "import pandas as pd\n",
    "data=pd.read_csv('../input/co2-ghg-emissionsdata/co2_emission.csv')\n",
    "data"
   ]
  },
  {
   "cell_type": "code",
   "execution_count": 2,
   "metadata": {
    "execution": {
     "iopub.execute_input": "2020-10-30T19:29:32.471318Z",
     "iopub.status.busy": "2020-10-30T19:29:32.470305Z",
     "iopub.status.idle": "2020-10-30T19:29:32.473885Z",
     "shell.execute_reply": "2020-10-30T19:29:32.473188Z"
    },
    "papermill": {
     "duration": 0.030281,
     "end_time": "2020-10-30T19:29:32.474023",
     "exception": false,
     "start_time": "2020-10-30T19:29:32.443742",
     "status": "completed"
    },
    "tags": []
   },
   "outputs": [],
   "source": [
    "data.rename(columns = {'Annual CO₂ emissions (tonnes )':'Annual_CO2_emissions_tonnes'},inplace =True)"
   ]
  },
  {
   "cell_type": "markdown",
   "metadata": {
    "papermill": {
     "duration": 0.019488,
     "end_time": "2020-10-30T19:29:32.516435",
     "exception": false,
     "start_time": "2020-10-30T19:29:32.496947",
     "status": "completed"
    },
    "tags": []
   },
   "source": [
    "# Understand the data"
   ]
  },
  {
   "cell_type": "code",
   "execution_count": 3,
   "metadata": {
    "execution": {
     "iopub.execute_input": "2020-10-30T19:29:32.563965Z",
     "iopub.status.busy": "2020-10-30T19:29:32.562776Z",
     "iopub.status.idle": "2020-10-30T19:29:32.567396Z",
     "shell.execute_reply": "2020-10-30T19:29:32.566573Z"
    },
    "papermill": {
     "duration": 0.031108,
     "end_time": "2020-10-30T19:29:32.567526",
     "exception": false,
     "start_time": "2020-10-30T19:29:32.536418",
     "status": "completed"
    },
    "tags": []
   },
   "outputs": [
    {
     "data": {
      "text/plain": [
       "36153261645.0"
      ]
     },
     "execution_count": 3,
     "metadata": {},
     "output_type": "execute_result"
    }
   ],
   "source": [
    "data['Annual_CO2_emissions_tonnes'].max()"
   ]
  },
  {
   "cell_type": "code",
   "execution_count": 4,
   "metadata": {
    "execution": {
     "iopub.execute_input": "2020-10-30T19:29:32.616039Z",
     "iopub.status.busy": "2020-10-30T19:29:32.615136Z",
     "iopub.status.idle": "2020-10-30T19:29:32.619702Z",
     "shell.execute_reply": "2020-10-30T19:29:32.618957Z"
    },
    "papermill": {
     "duration": 0.031348,
     "end_time": "2020-10-30T19:29:32.619826",
     "exception": false,
     "start_time": "2020-10-30T19:29:32.588478",
     "status": "completed"
    },
    "tags": []
   },
   "outputs": [
    {
     "data": {
      "text/plain": [
       "-625522256.7"
      ]
     },
     "execution_count": 4,
     "metadata": {},
     "output_type": "execute_result"
    }
   ],
   "source": [
    "data['Annual_CO2_emissions_tonnes'].min()"
   ]
  },
  {
   "cell_type": "code",
   "execution_count": 5,
   "metadata": {
    "execution": {
     "iopub.execute_input": "2020-10-30T19:29:32.673225Z",
     "iopub.status.busy": "2020-10-30T19:29:32.672422Z",
     "iopub.status.idle": "2020-10-30T19:29:32.706975Z",
     "shell.execute_reply": "2020-10-30T19:29:32.706200Z"
    },
    "papermill": {
     "duration": 0.062082,
     "end_time": "2020-10-30T19:29:32.707097",
     "exception": false,
     "start_time": "2020-10-30T19:29:32.645015",
     "status": "completed"
    },
    "tags": []
   },
   "outputs": [
    {
     "data": {
      "text/html": [
       "<div>\n",
       "<style scoped>\n",
       "    .dataframe tbody tr th:only-of-type {\n",
       "        vertical-align: middle;\n",
       "    }\n",
       "\n",
       "    .dataframe tbody tr th {\n",
       "        vertical-align: top;\n",
       "    }\n",
       "\n",
       "    .dataframe thead th {\n",
       "        text-align: right;\n",
       "    }\n",
       "</style>\n",
       "<table border=\"1\" class=\"dataframe\">\n",
       "  <thead>\n",
       "    <tr style=\"text-align: right;\">\n",
       "      <th></th>\n",
       "      <th>Entity</th>\n",
       "      <th>Code</th>\n",
       "      <th>Year</th>\n",
       "      <th>Annual_CO2_emissions_tonnes</th>\n",
       "    </tr>\n",
       "  </thead>\n",
       "  <tbody>\n",
       "    <tr>\n",
       "      <th>0</th>\n",
       "      <td>Afghanistan</td>\n",
       "      <td>AFG</td>\n",
       "      <td>1949</td>\n",
       "      <td>14656.0</td>\n",
       "    </tr>\n",
       "    <tr>\n",
       "      <th>1</th>\n",
       "      <td>Afghanistan</td>\n",
       "      <td>AFG</td>\n",
       "      <td>1950</td>\n",
       "      <td>84272.0</td>\n",
       "    </tr>\n",
       "    <tr>\n",
       "      <th>2</th>\n",
       "      <td>Afghanistan</td>\n",
       "      <td>AFG</td>\n",
       "      <td>1951</td>\n",
       "      <td>91600.0</td>\n",
       "    </tr>\n",
       "    <tr>\n",
       "      <th>3</th>\n",
       "      <td>Afghanistan</td>\n",
       "      <td>AFG</td>\n",
       "      <td>1952</td>\n",
       "      <td>91600.0</td>\n",
       "    </tr>\n",
       "    <tr>\n",
       "      <th>4</th>\n",
       "      <td>Afghanistan</td>\n",
       "      <td>AFG</td>\n",
       "      <td>1953</td>\n",
       "      <td>106256.0</td>\n",
       "    </tr>\n",
       "  </tbody>\n",
       "</table>\n",
       "</div>"
      ],
      "text/plain": [
       "        Entity Code  Year  Annual_CO2_emissions_tonnes\n",
       "0  Afghanistan  AFG  1949                      14656.0\n",
       "1  Afghanistan  AFG  1950                      84272.0\n",
       "2  Afghanistan  AFG  1951                      91600.0\n",
       "3  Afghanistan  AFG  1952                      91600.0\n",
       "4  Afghanistan  AFG  1953                     106256.0"
      ]
     },
     "execution_count": 5,
     "metadata": {},
     "output_type": "execute_result"
    }
   ],
   "source": [
    "data=data[data['Annual_CO2_emissions_tonnes']>=0]\n",
    "data.head()"
   ]
  },
  {
   "cell_type": "code",
   "execution_count": 6,
   "metadata": {
    "execution": {
     "iopub.execute_input": "2020-10-30T19:29:32.758782Z",
     "iopub.status.busy": "2020-10-30T19:29:32.757666Z",
     "iopub.status.idle": "2020-10-30T19:29:32.762590Z",
     "shell.execute_reply": "2020-10-30T19:29:32.761820Z"
    },
    "papermill": {
     "duration": 0.033426,
     "end_time": "2020-10-30T19:29:32.762721",
     "exception": false,
     "start_time": "2020-10-30T19:29:32.729295",
     "status": "completed"
    },
    "tags": []
   },
   "outputs": [
    {
     "data": {
      "text/plain": [
       "0.0"
      ]
     },
     "execution_count": 6,
     "metadata": {},
     "output_type": "execute_result"
    }
   ],
   "source": [
    "data['Annual_CO2_emissions_tonnes'].min()"
   ]
  },
  {
   "cell_type": "code",
   "execution_count": 7,
   "metadata": {
    "execution": {
     "iopub.execute_input": "2020-10-30T19:29:32.814443Z",
     "iopub.status.busy": "2020-10-30T19:29:32.813470Z",
     "iopub.status.idle": "2020-10-30T19:29:32.818378Z",
     "shell.execute_reply": "2020-10-30T19:29:32.818931Z"
    },
    "papermill": {
     "duration": 0.033908,
     "end_time": "2020-10-30T19:29:32.819094",
     "exception": false,
     "start_time": "2020-10-30T19:29:32.785186",
     "status": "completed"
    },
    "tags": []
   },
   "outputs": [
    {
     "name": "stdout",
     "output_type": "stream",
     "text": [
      "Total co2 emitted by all countries by 2017:  4036305996933.6396 tonnes\n"
     ]
    }
   ],
   "source": [
    "total_co2_emission= data['Annual_CO2_emissions_tonnes'].sum()\n",
    "print(\"Total co2 emitted by all countries by 2017: \", total_co2_emission ,\"tonnes\")"
   ]
  },
  {
   "cell_type": "markdown",
   "metadata": {
    "papermill": {
     "duration": 0.022808,
     "end_time": "2020-10-30T19:29:32.865295",
     "exception": false,
     "start_time": "2020-10-30T19:29:32.842487",
     "status": "completed"
    },
    "tags": []
   },
   "source": [
    "# List of countries"
   ]
  },
  {
   "cell_type": "code",
   "execution_count": 8,
   "metadata": {
    "execution": {
     "iopub.execute_input": "2020-10-30T19:29:32.918514Z",
     "iopub.status.busy": "2020-10-30T19:29:32.917720Z",
     "iopub.status.idle": "2020-10-30T19:29:32.929292Z",
     "shell.execute_reply": "2020-10-30T19:29:32.928636Z"
    },
    "papermill": {
     "duration": 0.041255,
     "end_time": "2020-10-30T19:29:32.929418",
     "exception": false,
     "start_time": "2020-10-30T19:29:32.888163",
     "status": "completed"
    },
    "tags": []
   },
   "outputs": [
    {
     "data": {
      "text/plain": [
       "['Afghanistan',\n",
       " 'Africa',\n",
       " 'Albania',\n",
       " 'Algeria',\n",
       " 'Americas (other)',\n",
       " 'Andorra',\n",
       " 'Angola',\n",
       " 'Anguilla',\n",
       " 'Antarctic Fisheries',\n",
       " 'Antigua and Barbuda',\n",
       " 'Argentina',\n",
       " 'Armenia',\n",
       " 'Aruba',\n",
       " 'Asia and Pacific (other)',\n",
       " 'Australia',\n",
       " 'Austria',\n",
       " 'Azerbaijan',\n",
       " 'Bahamas',\n",
       " 'Bahrain',\n",
       " 'Bangladesh',\n",
       " 'Barbados',\n",
       " 'Belarus',\n",
       " 'Belgium',\n",
       " 'Belize',\n",
       " 'Benin',\n",
       " 'Bermuda',\n",
       " 'Bhutan',\n",
       " 'Bolivia',\n",
       " 'Bonaire Sint Eustatius and Saba',\n",
       " 'Bosnia and Herzegovina',\n",
       " 'Botswana',\n",
       " 'Brazil',\n",
       " 'British Virgin Islands',\n",
       " 'Brunei',\n",
       " 'Bulgaria',\n",
       " 'Burkina Faso',\n",
       " 'Burundi',\n",
       " 'Cambodia',\n",
       " 'Cameroon',\n",
       " 'Canada',\n",
       " 'Cape Verde',\n",
       " 'Cayman Islands',\n",
       " 'Central African Republic',\n",
       " 'Chad',\n",
       " 'Chile',\n",
       " 'China',\n",
       " 'Christmas Island',\n",
       " 'Colombia',\n",
       " 'Comoros',\n",
       " 'Republic of the Congo',\n",
       " 'Cook Islands',\n",
       " 'Costa Rica',\n",
       " \"Cote d'Ivoire\",\n",
       " 'Croatia',\n",
       " 'Cuba',\n",
       " 'Curacao',\n",
       " 'Cyprus',\n",
       " 'Czech Republic',\n",
       " 'Czechoslovakia',\n",
       " 'Democratic Republic of Republic of the Congo',\n",
       " 'Denmark',\n",
       " 'Djibouti',\n",
       " 'Dominica',\n",
       " 'Dominican Republic',\n",
       " 'EU-28',\n",
       " 'Ecuador',\n",
       " 'Egypt',\n",
       " 'El Salvador',\n",
       " 'Equatorial Guinea',\n",
       " 'Eritrea',\n",
       " 'Estonia',\n",
       " 'Ethiopia',\n",
       " 'Europe (other)',\n",
       " 'Faeroe Islands',\n",
       " 'Falkland Islands',\n",
       " 'Fiji',\n",
       " 'Finland',\n",
       " 'France',\n",
       " 'French Guiana',\n",
       " 'French Polynesia',\n",
       " 'Gabon',\n",
       " 'Gambia',\n",
       " 'Georgia',\n",
       " 'Germany',\n",
       " 'Ghana',\n",
       " 'Gibraltar',\n",
       " 'Greece',\n",
       " 'Greenland',\n",
       " 'Grenada',\n",
       " 'Guadeloupe',\n",
       " 'Guatemala',\n",
       " 'Guinea',\n",
       " 'Guinea-Bissau',\n",
       " 'Guyana',\n",
       " 'Haiti',\n",
       " 'Honduras',\n",
       " 'Hong Kong',\n",
       " 'Hungary',\n",
       " 'Iceland',\n",
       " 'India',\n",
       " 'Indonesia',\n",
       " 'International transport',\n",
       " 'Iran',\n",
       " 'Iraq',\n",
       " 'Ireland',\n",
       " 'Israel',\n",
       " 'Italy',\n",
       " 'Jamaica',\n",
       " 'Japan',\n",
       " 'Jordan',\n",
       " 'Kazakhstan',\n",
       " 'Kenya',\n",
       " 'Kiribati',\n",
       " 'Kuwait',\n",
       " 'Kyrgysztan',\n",
       " 'Kyrgyzstan',\n",
       " 'Laos',\n",
       " 'Latvia',\n",
       " 'Lebanon',\n",
       " 'Lesotho',\n",
       " 'Liberia',\n",
       " 'Libya',\n",
       " 'Liechtenstein',\n",
       " 'Lithuania',\n",
       " 'Luxembourg',\n",
       " 'Macao',\n",
       " 'Macedonia',\n",
       " 'Madagascar',\n",
       " 'Malawi',\n",
       " 'Malaysia',\n",
       " 'Maldives',\n",
       " 'Mali',\n",
       " 'Malta',\n",
       " 'Marshall Islands',\n",
       " 'Martinique',\n",
       " 'Mauritania',\n",
       " 'Mauritius',\n",
       " 'Mexico',\n",
       " 'Micronesia (country)',\n",
       " 'Middle East',\n",
       " 'Moldova',\n",
       " 'Mongolia',\n",
       " 'Montenegro',\n",
       " 'Montserrat',\n",
       " 'Morocco',\n",
       " 'Mozambique',\n",
       " 'Myanmar',\n",
       " 'Namibia',\n",
       " 'Nauru',\n",
       " 'Nepal',\n",
       " 'Netherlands',\n",
       " 'New Caledonia',\n",
       " 'New Zealand',\n",
       " 'Nicaragua',\n",
       " 'Niger',\n",
       " 'Nigeria',\n",
       " 'Niue',\n",
       " 'North Korea',\n",
       " 'Norway',\n",
       " 'Oman',\n",
       " 'Pakistan',\n",
       " 'Palau',\n",
       " 'Palestine',\n",
       " 'Panama',\n",
       " 'Papua New Guinea',\n",
       " 'Paraguay',\n",
       " 'Peru',\n",
       " 'Philippines',\n",
       " 'Poland',\n",
       " 'Portugal',\n",
       " 'Qatar',\n",
       " 'Reunion',\n",
       " 'Romania',\n",
       " 'Russia',\n",
       " 'Rwanda',\n",
       " 'Saint Helena',\n",
       " 'Saint Kitts and Nevis',\n",
       " 'Saint Lucia',\n",
       " 'Saint Pierre and Miquelon',\n",
       " 'Saint Vincent and the Grenadines',\n",
       " 'Samoa',\n",
       " 'Sao Tome and Principe',\n",
       " 'Saudi Arabia',\n",
       " 'Senegal',\n",
       " 'Serbia',\n",
       " 'Seychelles',\n",
       " 'Sierra Leone',\n",
       " 'Singapore',\n",
       " 'Sint Maarten (Dutch part)',\n",
       " 'Slovakia',\n",
       " 'Slovenia',\n",
       " 'Solomon Islands',\n",
       " 'Somalia',\n",
       " 'South Africa',\n",
       " 'South Korea',\n",
       " 'South Sudan',\n",
       " 'Spain',\n",
       " 'Sri Lanka',\n",
       " 'Statistical differences',\n",
       " 'Sudan',\n",
       " 'Suriname',\n",
       " 'Swaziland',\n",
       " 'Sweden',\n",
       " 'Switzerland',\n",
       " 'Syria',\n",
       " 'Taiwan',\n",
       " 'Tajikistan',\n",
       " 'Tanzania',\n",
       " 'Thailand',\n",
       " 'Timor',\n",
       " 'Togo',\n",
       " 'Tonga',\n",
       " 'Trinidad and Tobago',\n",
       " 'Tunisia',\n",
       " 'Turkey',\n",
       " 'Turkmenistan',\n",
       " 'Turks and Caicos Islands',\n",
       " 'Tuvalu',\n",
       " 'Uganda',\n",
       " 'Ukraine',\n",
       " 'United Arab Emirates',\n",
       " 'United Kingdom',\n",
       " 'United States',\n",
       " 'Uruguay',\n",
       " 'Uzbekistan',\n",
       " 'Vanuatu',\n",
       " 'Venezuela',\n",
       " 'Vietnam',\n",
       " 'Wallis and Futuna Islands',\n",
       " 'World',\n",
       " 'Yemen',\n",
       " 'Zambia',\n",
       " 'Zimbabwe']"
      ]
     },
     "execution_count": 8,
     "metadata": {},
     "output_type": "execute_result"
    }
   ],
   "source": [
    "countries=data['Entity'].unique().tolist()\n",
    "countries"
   ]
  },
  {
   "cell_type": "code",
   "execution_count": 9,
   "metadata": {
    "execution": {
     "iopub.execute_input": "2020-10-30T19:29:32.999684Z",
     "iopub.status.busy": "2020-10-30T19:29:32.994455Z",
     "iopub.status.idle": "2020-10-30T19:29:33.005092Z",
     "shell.execute_reply": "2020-10-30T19:29:33.004388Z"
    },
    "papermill": {
     "duration": 0.051668,
     "end_time": "2020-10-30T19:29:33.005236",
     "exception": false,
     "start_time": "2020-10-30T19:29:32.953568",
     "status": "completed"
    },
    "tags": []
   },
   "outputs": [
    {
     "data": {
      "text/html": [
       "<div>\n",
       "<style scoped>\n",
       "    .dataframe tbody tr th:only-of-type {\n",
       "        vertical-align: middle;\n",
       "    }\n",
       "\n",
       "    .dataframe tbody tr th {\n",
       "        vertical-align: top;\n",
       "    }\n",
       "\n",
       "    .dataframe thead th {\n",
       "        text-align: right;\n",
       "    }\n",
       "</style>\n",
       "<table border=\"1\" class=\"dataframe\">\n",
       "  <thead>\n",
       "    <tr style=\"text-align: right;\">\n",
       "      <th></th>\n",
       "      <th>Entity</th>\n",
       "      <th>Code</th>\n",
       "      <th>Year</th>\n",
       "      <th>Annual_CO2_emissions_tonnes</th>\n",
       "    </tr>\n",
       "  </thead>\n",
       "  <tbody>\n",
       "    <tr>\n",
       "      <th>0</th>\n",
       "      <td>False</td>\n",
       "      <td>False</td>\n",
       "      <td>False</td>\n",
       "      <td>False</td>\n",
       "    </tr>\n",
       "    <tr>\n",
       "      <th>1</th>\n",
       "      <td>False</td>\n",
       "      <td>False</td>\n",
       "      <td>False</td>\n",
       "      <td>False</td>\n",
       "    </tr>\n",
       "    <tr>\n",
       "      <th>2</th>\n",
       "      <td>False</td>\n",
       "      <td>False</td>\n",
       "      <td>False</td>\n",
       "      <td>False</td>\n",
       "    </tr>\n",
       "    <tr>\n",
       "      <th>3</th>\n",
       "      <td>False</td>\n",
       "      <td>False</td>\n",
       "      <td>False</td>\n",
       "      <td>False</td>\n",
       "    </tr>\n",
       "    <tr>\n",
       "      <th>4</th>\n",
       "      <td>False</td>\n",
       "      <td>False</td>\n",
       "      <td>False</td>\n",
       "      <td>False</td>\n",
       "    </tr>\n",
       "    <tr>\n",
       "      <th>...</th>\n",
       "      <td>...</td>\n",
       "      <td>...</td>\n",
       "      <td>...</td>\n",
       "      <td>...</td>\n",
       "    </tr>\n",
       "    <tr>\n",
       "      <th>20848</th>\n",
       "      <td>False</td>\n",
       "      <td>False</td>\n",
       "      <td>False</td>\n",
       "      <td>False</td>\n",
       "    </tr>\n",
       "    <tr>\n",
       "      <th>20849</th>\n",
       "      <td>False</td>\n",
       "      <td>False</td>\n",
       "      <td>False</td>\n",
       "      <td>False</td>\n",
       "    </tr>\n",
       "    <tr>\n",
       "      <th>20850</th>\n",
       "      <td>False</td>\n",
       "      <td>False</td>\n",
       "      <td>False</td>\n",
       "      <td>False</td>\n",
       "    </tr>\n",
       "    <tr>\n",
       "      <th>20851</th>\n",
       "      <td>False</td>\n",
       "      <td>False</td>\n",
       "      <td>False</td>\n",
       "      <td>False</td>\n",
       "    </tr>\n",
       "    <tr>\n",
       "      <th>20852</th>\n",
       "      <td>False</td>\n",
       "      <td>False</td>\n",
       "      <td>False</td>\n",
       "      <td>False</td>\n",
       "    </tr>\n",
       "  </tbody>\n",
       "</table>\n",
       "<p>20813 rows × 4 columns</p>\n",
       "</div>"
      ],
      "text/plain": [
       "       Entity   Code   Year  Annual_CO2_emissions_tonnes\n",
       "0       False  False  False                        False\n",
       "1       False  False  False                        False\n",
       "2       False  False  False                        False\n",
       "3       False  False  False                        False\n",
       "4       False  False  False                        False\n",
       "...       ...    ...    ...                          ...\n",
       "20848   False  False  False                        False\n",
       "20849   False  False  False                        False\n",
       "20850   False  False  False                        False\n",
       "20851   False  False  False                        False\n",
       "20852   False  False  False                        False\n",
       "\n",
       "[20813 rows x 4 columns]"
      ]
     },
     "execution_count": 9,
     "metadata": {},
     "output_type": "execute_result"
    }
   ],
   "source": [
    "missing_data=data.isnull()\n",
    "missing_data"
   ]
  },
  {
   "cell_type": "code",
   "execution_count": 10,
   "metadata": {
    "execution": {
     "iopub.execute_input": "2020-10-30T19:29:33.064470Z",
     "iopub.status.busy": "2020-10-30T19:29:33.063658Z",
     "iopub.status.idle": "2020-10-30T19:29:33.080699Z",
     "shell.execute_reply": "2020-10-30T19:29:33.079678Z"
    },
    "papermill": {
     "duration": 0.048953,
     "end_time": "2020-10-30T19:29:33.080888",
     "exception": false,
     "start_time": "2020-10-30T19:29:33.031935",
     "status": "completed"
    },
    "tags": []
   },
   "outputs": [
    {
     "name": "stdout",
     "output_type": "stream",
     "text": [
      "Entity\n",
      "False    20813\n",
      "Name: Entity, dtype: int64\n",
      "\n",
      "Code\n",
      "False    18646\n",
      "True      2167\n",
      "Name: Code, dtype: int64\n",
      "\n",
      "Year\n",
      "False    20813\n",
      "Name: Year, dtype: int64\n",
      "\n",
      "Annual_CO2_emissions_tonnes\n",
      "False    20813\n",
      "Name: Annual_CO2_emissions_tonnes, dtype: int64\n",
      "\n"
     ]
    }
   ],
   "source": [
    "for column in missing_data.columns.values.tolist():\n",
    "    print(column)\n",
    "    print (missing_data[column].value_counts())\n",
    "    print(\"\")"
   ]
  },
  {
   "cell_type": "markdown",
   "metadata": {
    "papermill": {
     "duration": 0.02569,
     "end_time": "2020-10-30T19:29:33.133215",
     "exception": false,
     "start_time": "2020-10-30T19:29:33.107525",
     "status": "completed"
    },
    "tags": []
   },
   "source": [
    "# Remove column 'Code' "
   ]
  },
  {
   "cell_type": "code",
   "execution_count": 11,
   "metadata": {
    "execution": {
     "iopub.execute_input": "2020-10-30T19:29:33.204966Z",
     "iopub.status.busy": "2020-10-30T19:29:33.198803Z",
     "iopub.status.idle": "2020-10-30T19:29:33.210151Z",
     "shell.execute_reply": "2020-10-30T19:29:33.209378Z"
    },
    "papermill": {
     "duration": 0.05126,
     "end_time": "2020-10-30T19:29:33.210297",
     "exception": false,
     "start_time": "2020-10-30T19:29:33.159037",
     "status": "completed"
    },
    "tags": []
   },
   "outputs": [
    {
     "data": {
      "text/html": [
       "<div>\n",
       "<style scoped>\n",
       "    .dataframe tbody tr th:only-of-type {\n",
       "        vertical-align: middle;\n",
       "    }\n",
       "\n",
       "    .dataframe tbody tr th {\n",
       "        vertical-align: top;\n",
       "    }\n",
       "\n",
       "    .dataframe thead th {\n",
       "        text-align: right;\n",
       "    }\n",
       "</style>\n",
       "<table border=\"1\" class=\"dataframe\">\n",
       "  <thead>\n",
       "    <tr style=\"text-align: right;\">\n",
       "      <th></th>\n",
       "      <th>Entity</th>\n",
       "      <th>Year</th>\n",
       "      <th>Annual_CO2_emissions_tonnes</th>\n",
       "    </tr>\n",
       "  </thead>\n",
       "  <tbody>\n",
       "    <tr>\n",
       "      <th>0</th>\n",
       "      <td>Afghanistan</td>\n",
       "      <td>1949</td>\n",
       "      <td>14656.00</td>\n",
       "    </tr>\n",
       "    <tr>\n",
       "      <th>1</th>\n",
       "      <td>Afghanistan</td>\n",
       "      <td>1950</td>\n",
       "      <td>84272.00</td>\n",
       "    </tr>\n",
       "    <tr>\n",
       "      <th>2</th>\n",
       "      <td>Afghanistan</td>\n",
       "      <td>1951</td>\n",
       "      <td>91600.00</td>\n",
       "    </tr>\n",
       "    <tr>\n",
       "      <th>3</th>\n",
       "      <td>Afghanistan</td>\n",
       "      <td>1952</td>\n",
       "      <td>91600.00</td>\n",
       "    </tr>\n",
       "    <tr>\n",
       "      <th>4</th>\n",
       "      <td>Afghanistan</td>\n",
       "      <td>1953</td>\n",
       "      <td>106256.00</td>\n",
       "    </tr>\n",
       "    <tr>\n",
       "      <th>...</th>\n",
       "      <td>...</td>\n",
       "      <td>...</td>\n",
       "      <td>...</td>\n",
       "    </tr>\n",
       "    <tr>\n",
       "      <th>20848</th>\n",
       "      <td>Zimbabwe</td>\n",
       "      <td>2013</td>\n",
       "      <td>11536239.29</td>\n",
       "    </tr>\n",
       "    <tr>\n",
       "      <th>20849</th>\n",
       "      <td>Zimbabwe</td>\n",
       "      <td>2014</td>\n",
       "      <td>11866348.41</td>\n",
       "    </tr>\n",
       "    <tr>\n",
       "      <th>20850</th>\n",
       "      <td>Zimbabwe</td>\n",
       "      <td>2015</td>\n",
       "      <td>10907603.94</td>\n",
       "    </tr>\n",
       "    <tr>\n",
       "      <th>20851</th>\n",
       "      <td>Zimbabwe</td>\n",
       "      <td>2016</td>\n",
       "      <td>9932649.88</td>\n",
       "    </tr>\n",
       "    <tr>\n",
       "      <th>20852</th>\n",
       "      <td>Zimbabwe</td>\n",
       "      <td>2017</td>\n",
       "      <td>10397718.47</td>\n",
       "    </tr>\n",
       "  </tbody>\n",
       "</table>\n",
       "<p>20813 rows × 3 columns</p>\n",
       "</div>"
      ],
      "text/plain": [
       "            Entity  Year  Annual_CO2_emissions_tonnes\n",
       "0      Afghanistan  1949                     14656.00\n",
       "1      Afghanistan  1950                     84272.00\n",
       "2      Afghanistan  1951                     91600.00\n",
       "3      Afghanistan  1952                     91600.00\n",
       "4      Afghanistan  1953                    106256.00\n",
       "...            ...   ...                          ...\n",
       "20848     Zimbabwe  2013                  11536239.29\n",
       "20849     Zimbabwe  2014                  11866348.41\n",
       "20850     Zimbabwe  2015                  10907603.94\n",
       "20851     Zimbabwe  2016                   9932649.88\n",
       "20852     Zimbabwe  2017                  10397718.47\n",
       "\n",
       "[20813 rows x 3 columns]"
      ]
     },
     "execution_count": 11,
     "metadata": {},
     "output_type": "execute_result"
    }
   ],
   "source": [
    "data=data.drop(columns=['Code'], axis=1)\n",
    "data"
   ]
  },
  {
   "cell_type": "markdown",
   "metadata": {
    "papermill": {
     "duration": 0.027246,
     "end_time": "2020-10-30T19:29:33.263969",
     "exception": false,
     "start_time": "2020-10-30T19:29:33.236723",
     "status": "completed"
    },
    "tags": []
   },
   "source": [
    "# Countrywise CO2 emission"
   ]
  },
  {
   "cell_type": "code",
   "execution_count": 12,
   "metadata": {
    "execution": {
     "iopub.execute_input": "2020-10-30T19:29:33.327038Z",
     "iopub.status.busy": "2020-10-30T19:29:33.325869Z",
     "iopub.status.idle": "2020-10-30T19:29:33.345190Z",
     "shell.execute_reply": "2020-10-30T19:29:33.344438Z"
    },
    "papermill": {
     "duration": 0.055127,
     "end_time": "2020-10-30T19:29:33.345335",
     "exception": false,
     "start_time": "2020-10-30T19:29:33.290208",
     "status": "completed"
    },
    "tags": []
   },
   "outputs": [
    {
     "data": {
      "text/html": [
       "<div>\n",
       "<style scoped>\n",
       "    .dataframe tbody tr th:only-of-type {\n",
       "        vertical-align: middle;\n",
       "    }\n",
       "\n",
       "    .dataframe tbody tr th {\n",
       "        vertical-align: top;\n",
       "    }\n",
       "\n",
       "    .dataframe thead th {\n",
       "        text-align: right;\n",
       "    }\n",
       "</style>\n",
       "<table border=\"1\" class=\"dataframe\">\n",
       "  <thead>\n",
       "    <tr style=\"text-align: right;\">\n",
       "      <th></th>\n",
       "      <th>Entity</th>\n",
       "      <th>Annual_CO2_emissions_tonnes</th>\n",
       "    </tr>\n",
       "  </thead>\n",
       "  <tbody>\n",
       "    <tr>\n",
       "      <th>0</th>\n",
       "      <td>Afghanistan</td>\n",
       "      <td>1.785029e+08</td>\n",
       "    </tr>\n",
       "    <tr>\n",
       "      <th>1</th>\n",
       "      <td>Africa</td>\n",
       "      <td>4.311757e+10</td>\n",
       "    </tr>\n",
       "    <tr>\n",
       "      <th>2</th>\n",
       "      <td>Albania</td>\n",
       "      <td>2.772782e+08</td>\n",
       "    </tr>\n",
       "    <tr>\n",
       "      <th>3</th>\n",
       "      <td>Algeria</td>\n",
       "      <td>4.107870e+09</td>\n",
       "    </tr>\n",
       "    <tr>\n",
       "      <th>4</th>\n",
       "      <td>Americas (other)</td>\n",
       "      <td>9.864116e+10</td>\n",
       "    </tr>\n",
       "    <tr>\n",
       "      <th>5</th>\n",
       "      <td>Andorra</td>\n",
       "      <td>1.371738e+07</td>\n",
       "    </tr>\n",
       "    <tr>\n",
       "      <th>6</th>\n",
       "      <td>Angola</td>\n",
       "      <td>6.237623e+08</td>\n",
       "    </tr>\n",
       "    <tr>\n",
       "      <th>7</th>\n",
       "      <td>Anguilla</td>\n",
       "      <td>3.040078e+06</td>\n",
       "    </tr>\n",
       "    <tr>\n",
       "      <th>8</th>\n",
       "      <td>Antarctic Fisheries</td>\n",
       "      <td>1.538880e+05</td>\n",
       "    </tr>\n",
       "    <tr>\n",
       "      <th>9</th>\n",
       "      <td>Antigua and Barbuda</td>\n",
       "      <td>2.175672e+07</td>\n",
       "    </tr>\n",
       "  </tbody>\n",
       "</table>\n",
       "</div>"
      ],
      "text/plain": [
       "                Entity  Annual_CO2_emissions_tonnes\n",
       "0          Afghanistan                 1.785029e+08\n",
       "1               Africa                 4.311757e+10\n",
       "2              Albania                 2.772782e+08\n",
       "3              Algeria                 4.107870e+09\n",
       "4     Americas (other)                 9.864116e+10\n",
       "5              Andorra                 1.371738e+07\n",
       "6               Angola                 6.237623e+08\n",
       "7             Anguilla                 3.040078e+06\n",
       "8  Antarctic Fisheries                 1.538880e+05\n",
       "9  Antigua and Barbuda                 2.175672e+07"
      ]
     },
     "execution_count": 12,
     "metadata": {},
     "output_type": "execute_result"
    }
   ],
   "source": [
    "countrywise=data[['Entity','Annual_CO2_emissions_tonnes']]\n",
    "totalco2_countrywise=countrywise.groupby(['Entity'], as_index=False).sum()\n",
    "totalco2_countrywise.head(10)"
   ]
  },
  {
   "cell_type": "code",
   "execution_count": 13,
   "metadata": {
    "execution": {
     "iopub.execute_input": "2020-10-30T19:29:33.408548Z",
     "iopub.status.busy": "2020-10-30T19:29:33.407437Z",
     "iopub.status.idle": "2020-10-30T19:29:33.421082Z",
     "shell.execute_reply": "2020-10-30T19:29:33.420433Z"
    },
    "papermill": {
     "duration": 0.048768,
     "end_time": "2020-10-30T19:29:33.421222",
     "exception": false,
     "start_time": "2020-10-30T19:29:33.372454",
     "status": "completed"
    },
    "tags": []
   },
   "outputs": [
    {
     "data": {
      "text/html": [
       "<div>\n",
       "<style scoped>\n",
       "    .dataframe tbody tr th:only-of-type {\n",
       "        vertical-align: middle;\n",
       "    }\n",
       "\n",
       "    .dataframe tbody tr th {\n",
       "        vertical-align: top;\n",
       "    }\n",
       "\n",
       "    .dataframe thead th {\n",
       "        text-align: right;\n",
       "    }\n",
       "</style>\n",
       "<table border=\"1\" class=\"dataframe\">\n",
       "  <thead>\n",
       "    <tr style=\"text-align: right;\">\n",
       "      <th></th>\n",
       "      <th>Annual_CO2_emissions_tonnes</th>\n",
       "    </tr>\n",
       "  </thead>\n",
       "  <tbody>\n",
       "    <tr>\n",
       "      <th>count</th>\n",
       "      <td>2.330000e+02</td>\n",
       "    </tr>\n",
       "    <tr>\n",
       "      <th>mean</th>\n",
       "      <td>1.732320e+10</td>\n",
       "    </tr>\n",
       "    <tr>\n",
       "      <th>std</th>\n",
       "      <td>1.107848e+11</td>\n",
       "    </tr>\n",
       "    <tr>\n",
       "      <th>min</th>\n",
       "      <td>0.000000e+00</td>\n",
       "    </tr>\n",
       "    <tr>\n",
       "      <th>25%</th>\n",
       "      <td>3.528830e+07</td>\n",
       "    </tr>\n",
       "    <tr>\n",
       "      <th>50%</th>\n",
       "      <td>2.772782e+08</td>\n",
       "    </tr>\n",
       "    <tr>\n",
       "      <th>75%</th>\n",
       "      <td>3.016099e+09</td>\n",
       "    </tr>\n",
       "    <tr>\n",
       "      <th>max</th>\n",
       "      <td>1.575244e+12</td>\n",
       "    </tr>\n",
       "  </tbody>\n",
       "</table>\n",
       "</div>"
      ],
      "text/plain": [
       "       Annual_CO2_emissions_tonnes\n",
       "count                 2.330000e+02\n",
       "mean                  1.732320e+10\n",
       "std                   1.107848e+11\n",
       "min                   0.000000e+00\n",
       "25%                   3.528830e+07\n",
       "50%                   2.772782e+08\n",
       "75%                   3.016099e+09\n",
       "max                   1.575244e+12"
      ]
     },
     "execution_count": 13,
     "metadata": {},
     "output_type": "execute_result"
    }
   ],
   "source": [
    "totalco2_countrywise.describe()"
   ]
  },
  {
   "cell_type": "code",
   "execution_count": 14,
   "metadata": {
    "execution": {
     "iopub.execute_input": "2020-10-30T19:29:33.484150Z",
     "iopub.status.busy": "2020-10-30T19:29:33.482966Z",
     "iopub.status.idle": "2020-10-30T19:29:33.488219Z",
     "shell.execute_reply": "2020-10-30T19:29:33.487571Z"
    },
    "papermill": {
     "duration": 0.039273,
     "end_time": "2020-10-30T19:29:33.488364",
     "exception": false,
     "start_time": "2020-10-30T19:29:33.449091",
     "status": "completed"
    },
    "tags": []
   },
   "outputs": [
    {
     "data": {
      "text/plain": [
       "17323201703.577847"
      ]
     },
     "execution_count": 14,
     "metadata": {},
     "output_type": "execute_result"
    }
   ],
   "source": [
    "mean_value=totalco2_countrywise['Annual_CO2_emissions_tonnes'].mean()\n",
    "mean_value"
   ]
  },
  {
   "cell_type": "markdown",
   "metadata": {
    "papermill": {
     "duration": 0.028457,
     "end_time": "2020-10-30T19:29:33.545465",
     "exception": false,
     "start_time": "2020-10-30T19:29:33.517008",
     "status": "completed"
    },
    "tags": []
   },
   "source": [
    "# Top 10 over all emissions"
   ]
  },
  {
   "cell_type": "code",
   "execution_count": 15,
   "metadata": {
    "execution": {
     "iopub.execute_input": "2020-10-30T19:29:33.612837Z",
     "iopub.status.busy": "2020-10-30T19:29:33.612054Z",
     "iopub.status.idle": "2020-10-30T19:29:33.938139Z",
     "shell.execute_reply": "2020-10-30T19:29:33.937393Z"
    },
    "papermill": {
     "duration": 0.364296,
     "end_time": "2020-10-30T19:29:33.938294",
     "exception": false,
     "start_time": "2020-10-30T19:29:33.573998",
     "status": "completed"
    },
    "tags": []
   },
   "outputs": [
    {
     "data": {
      "text/plain": [
       "<matplotlib.axes._subplots.AxesSubplot at 0x7f9bac7fbbd0>"
      ]
     },
     "execution_count": 15,
     "metadata": {},
     "output_type": "execute_result"
    },
    {
     "data": {
      "image/png": "[encoded data removed]",
      "text/plain": [
       "<Figure size 432x288 with 1 Axes>"
      ]
     },
     "metadata": {
      "needs_background": "light"
     },
     "output_type": "display_data"
    }
   ],
   "source": [
    "totalco2_countrywise.groupby(\"Entity\").Annual_CO2_emissions_tonnes.mean().sort_values(ascending=False)[:10].plot.bar()"
   ]
  },
  {
   "cell_type": "markdown",
   "metadata": {
    "papermill": {
     "duration": 0.029599,
     "end_time": "2020-10-30T19:29:33.998114",
     "exception": false,
     "start_time": "2020-10-30T19:29:33.968515",
     "status": "completed"
    },
    "tags": []
   },
   "source": [
    "# Check the value of CO2 emision country wise\n",
    "Check your country"
   ]
  },
  {
   "cell_type": "code",
   "execution_count": 16,
   "metadata": {
    "execution": {
     "iopub.execute_input": "2020-10-30T19:29:34.067750Z",
     "iopub.status.busy": "2020-10-30T19:29:34.066576Z",
     "iopub.status.idle": "2020-10-30T19:29:34.070001Z",
     "shell.execute_reply": "2020-10-30T19:29:34.069182Z"
    },
    "papermill": {
     "duration": 0.041316,
     "end_time": "2020-10-30T19:29:34.070140",
     "exception": false,
     "start_time": "2020-10-30T19:29:34.028824",
     "status": "completed"
    },
    "tags": []
   },
   "outputs": [],
   "source": [
    "def countrywise():\n",
    "    x=totalco2_countrywise[\"Entity\"].to_list()\n",
    "    print(data['Entity'])\n",
    "    country=input(\"select your country from above list: \")\n",
    "    if country in x:\n",
    "        print(country, 'has generated',\n",
    "              totalco2_countrywise.loc[totalco2_countrywise['Entity'] == country, 'Annual_CO2_emissions_tonnes'].item(), 'tonnes of CO2')  "
   ]
  },
  {
   "cell_type": "code",
   "execution_count": 17,
   "metadata": {
    "execution": {
     "iopub.execute_input": "2020-10-30T19:29:34.137794Z",
     "iopub.status.busy": "2020-10-30T19:29:34.136958Z",
     "iopub.status.idle": "2020-10-30T19:29:34.187672Z",
     "shell.execute_reply": "2020-10-30T19:29:34.186965Z"
    },
    "papermill": {
     "duration": 0.087483,
     "end_time": "2020-10-30T19:29:34.187801",
     "exception": false,
     "start_time": "2020-10-30T19:29:34.100318",
     "status": "completed"
    },
    "tags": []
   },
   "outputs": [
    {
     "name": "stdout",
     "output_type": "stream",
     "text": [
      "0        Afghanistan\n",
      "1        Afghanistan\n",
      "2        Afghanistan\n",
      "3        Afghanistan\n",
      "4        Afghanistan\n",
      "            ...     \n",
      "20848       Zimbabwe\n",
      "20849       Zimbabwe\n",
      "20850       Zimbabwe\n",
      "20851       Zimbabwe\n",
      "20852       Zimbabwe\n",
      "Name: Entity, Length: 20813, dtype: object\n"
     ]
    },
    {
     "ename": "StdinNotImplementedError",
     "evalue": "raw_input was called, but this frontend does not support input requests.",
     "output_type": "error",
     "traceback": [
      "\u001b[0;31m---------------------------------------------------------------------------\u001b[0m",
      "\u001b[0;31mStdinNotImplementedError\u001b[0m                  Traceback (most recent call last)",
      "\u001b[0;32m<ipython-input-17-f1478b661de0>\u001b[0m in \u001b[0;36m<module>\u001b[0;34m\u001b[0m\n\u001b[0;32m----> 1\u001b[0;31m \u001b[0mcountrywise\u001b[0m\u001b[0;34m(\u001b[0m\u001b[0;34m)\u001b[0m\u001b[0;34m\u001b[0m\u001b[0;34m\u001b[0m\u001b[0m\n\u001b[0m",
      "\u001b[0;32m<ipython-input-16-5255ab4ab248>\u001b[0m in \u001b[0;36mcountrywise\u001b[0;34m()\u001b[0m\n\u001b[1;32m      2\u001b[0m     \u001b[0mx\u001b[0m\u001b[0;34m=\u001b[0m\u001b[0mtotalco2_countrywise\u001b[0m\u001b[0;34m[\u001b[0m\u001b[0;34m\"Entity\"\u001b[0m\u001b[0;34m]\u001b[0m\u001b[0;34m.\u001b[0m\u001b[0mto_list\u001b[0m\u001b[0;34m(\u001b[0m\u001b[0;34m)\u001b[0m\u001b[0;34m\u001b[0m\u001b[0;34m\u001b[0m\u001b[0m\n\u001b[1;32m      3\u001b[0m     \u001b[0mprint\u001b[0m\u001b[0;34m(\u001b[0m\u001b[0mdata\u001b[0m\u001b[0;34m[\u001b[0m\u001b[0;34m'Entity'\u001b[0m\u001b[0;34m]\u001b[0m\u001b[0;34m)\u001b[0m\u001b[0;34m\u001b[0m\u001b[0;34m\u001b[0m\u001b[0m\n\u001b[0;32m----> 4\u001b[0;31m     \u001b[0mcountry\u001b[0m\u001b[0;34m=\u001b[0m\u001b[0minput\u001b[0m\u001b[0;34m(\u001b[0m\u001b[0;34m\"select your country from above list: \"\u001b[0m\u001b[0;34m)\u001b[0m\u001b[0;34m\u001b[0m\u001b[0;34m\u001b[0m\u001b[0m\n\u001b[0m\u001b[1;32m      5\u001b[0m     \u001b[0;32mif\u001b[0m \u001b[0mcountry\u001b[0m \u001b[0;32min\u001b[0m \u001b[0mx\u001b[0m\u001b[0;34m:\u001b[0m\u001b[0;34m\u001b[0m\u001b[0;34m\u001b[0m\u001b[0m\n\u001b[1;32m      6\u001b[0m         print(country, 'has generated',\n",
      "\u001b[0;32m/opt/conda/lib/python3.7/site-packages/ipykernel/kernelbase.py\u001b[0m in \u001b[0;36mraw_input\u001b[0;34m(self, prompt)\u001b[0m\n\u001b[1;32m    853\u001b[0m         \u001b[0;32mif\u001b[0m \u001b[0;32mnot\u001b[0m \u001b[0mself\u001b[0m\u001b[0;34m.\u001b[0m\u001b[0m_allow_stdin\u001b[0m\u001b[0;34m:\u001b[0m\u001b[0;34m\u001b[0m\u001b[0;34m\u001b[0m\u001b[0m\n\u001b[1;32m    854\u001b[0m             raise StdinNotImplementedError(\n\u001b[0;32m--> 855\u001b[0;31m                 \u001b[0;34m\"raw_input was called, but this frontend does not support input requests.\"\u001b[0m\u001b[0;34m\u001b[0m\u001b[0;34m\u001b[0m\u001b[0m\n\u001b[0m\u001b[1;32m    856\u001b[0m             )\n\u001b[1;32m    857\u001b[0m         return self._input_request(str(prompt),\n",
      "\u001b[0;31mStdinNotImplementedError\u001b[0m: raw_input was called, but this frontend does not support input requests."
     ]
    }
   ],
   "source": [
    "countrywise()"
   ]
  },
  {
   "cell_type": "markdown",
   "metadata": {
    "papermill": {
     "duration": 0.031203,
     "end_time": "2020-10-30T19:29:34.250437",
     "exception": false,
     "start_time": "2020-10-30T19:29:34.219234",
     "status": "completed"
    },
    "tags": []
   },
   "source": [
    "**Highest to lowest CO2 generators**"
   ]
  },
  {
   "cell_type": "code",
   "execution_count": 18,
   "metadata": {
    "execution": {
     "iopub.execute_input": "2020-10-30T19:29:34.324948Z",
     "iopub.status.busy": "2020-10-30T19:29:34.323832Z",
     "iopub.status.idle": "2020-10-30T19:29:34.328341Z",
     "shell.execute_reply": "2020-10-30T19:29:34.327677Z"
    },
    "papermill": {
     "duration": 0.046689,
     "end_time": "2020-10-30T19:29:34.328468",
     "exception": false,
     "start_time": "2020-10-30T19:29:34.281779",
     "status": "completed"
    },
    "tags": []
   },
   "outputs": [
    {
     "data": {
      "text/plain": [
       "Entity\n",
       "World                       1.575244e+12\n",
       "United States               3.993783e+11\n",
       "EU-28                       3.528583e+11\n",
       "China                       2.001365e+11\n",
       "Asia and Pacific (other)    1.780573e+11\n",
       "                                ...     \n",
       "Saint Helena                3.463088e+05\n",
       "Niue                        2.715786e+05\n",
       "Tuvalu                      2.569226e+05\n",
       "Antarctic Fisheries         1.538880e+05\n",
       "Kyrgysztan                  0.000000e+00\n",
       "Name: Annual_CO2_emissions_tonnes, Length: 233, dtype: float64"
      ]
     },
     "execution_count": 18,
     "metadata": {},
     "output_type": "execute_result"
    }
   ],
   "source": [
    "totalco2_countrywise.groupby(\"Entity\").Annual_CO2_emissions_tonnes.mean().sort_values(ascending=False)"
   ]
  },
  {
   "cell_type": "code",
   "execution_count": null,
   "metadata": {
    "papermill": {
     "duration": 0.031098,
     "end_time": "2020-10-30T19:29:34.391356",
     "exception": false,
     "start_time": "2020-10-30T19:29:34.360258",
     "status": "completed"
    },
    "tags": []
   },
   "outputs": [],
   "source": []
  }
 ],
 "metadata": {
  "kernelspec": {
   "display_name": "Python 3",
   "language": "python",
   "name": "python3"
  },
  "language_info": {
   "codemirror_mode": {
    "name": "ipython",
    "version": 3
   },
   "file_extension": ".py",
   "mimetype": "text/x-python",
   "name": "python",
   "nbconvert_exporter": "python",
   "pygments_lexer": "ipython3",
   "version": "3.7.6"
  },
  "papermill": {
   "duration": 7.482882,
   "end_time": "2020-10-30T19:29:34.530969",
   "environment_variables": {},
   "exception": null,
   "input_path": "__notebook__.ipynb",
   "output_path": "__notebook__.ipynb",
   "parameters": {},
   "start_time": "2020-10-30T19:29:27.048087",
   "version": "2.1.0"
  }
 },
 "nbformat": 4,
 "nbformat_minor": 4
}
